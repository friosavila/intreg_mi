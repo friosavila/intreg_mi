{
 "cells": [
  {
   "cell_type": "raw",
   "id": "5cb6a4e8",
   "metadata": {},
   "source": [
    "---\n",
    "title: 'Price analysis: House Sales in King County, USA'\n",
    "author: Fernando Rios-Avila\n",
    "format:\n",
    "  html:\n",
    "    code-fold: true\n",
    "    echo: true\n",
    "    output: false\n",
    "    keep-ipynb: true\n",
    "---"
   ]
  },
  {
   "cell_type": "markdown",
   "id": "018ebbc0",
   "metadata": {},
   "source": [
    "## Setup\n",
    "\n",
    "For the following analysis, all the data process is done in the file [`example.do`](example.do).\n",
    "\n",
    "This do-file loads the data and creates auxiliary variables that mimic the interval censoring of the data (in this case price). \n",
    "\n",
    "Using the brackets data, it estimates the heteroskedastic interval regression model, and then uses the `intreg_mi` command to obtain the imputations for the data. We assume 8 brackets, with widths of 100, except for the first (200) and last bracket (no max house price). \n",
    "\n",
    "The imputed data is then used to estimate conditional and unconditional quantile regressions, using the fully observed data, and the imputed data.\n",
    "\n",
    "The results are then saved in a matrix, and then used to create the figures.\n",
    "\n",
    "```stata\n",
    "run example.do\n",
    "```\n",
    "\n",
    "## Model Specification\n",
    "\n",
    "For Imputation we use log of prices as the dependent variable, and control for: # of bedrooms, #bathrooms, Log living area, Log Lot area, # of floors, if it at the Waterfront, if it has a view, condition of the house, grade of the house, age of the house, and if it was renovated. We model both conditional mean and conditional variance.\n",
    "\n",
    "For modeling, we only consider the following: # of bedrooms, #bathrooms, Log living area, Log Lot area, # of floors, if it at the Waterfront, and if it has a view.\n",
    "\n",
    "## Ploting Conditional and Unconditional Quantile Regressions\n",
    "\n",
    ":::{.panel-tabset}\n",
    "\n",
    "## Conditional Quantile Regression\n",
    "\n",
    "::: {layout-ncol=1 .column-screen}\n",
    "\n",
    "![](fig1.png)\n",
    "\n",
    ":::\n",
    "\n",
    "\n",
    "## Unconditional Quantile Regression\n",
    "\n",
    "::: {layout-ncol=1 .column-screen}\n",
    "\n",
    "![](fig2.png)\n",
    "\n",
    ":::\n",
    "\n",
    "\n",
    ":::"
   ]
  }
 ],
 "metadata": {
  "kernelspec": {
   "display_name": "Stata (nbstata)",
   "language": "stata",
   "name": "nbstata"
  },
  "language_info": {
   "file_extension": ".do",
   "mimetype": "text/x-stata",
   "name": "stata",
   "version": "17"
  }
 },
 "nbformat": 4,
 "nbformat_minor": 5
}
